{
 "cells": [
  {
   "cell_type": "markdown",
   "id": "91300b2f-0d8c-41f3-add4-cf0cfbe3386c",
   "metadata": {},
   "source": [
    "# La etenerna pregunta tiene respuest? Quien es mejor? MJ, KB o LB"
   ]
  },
  {
   "cell_type": "markdown",
   "id": "9431500e-6382-453d-965a-667b7b86feac",
   "metadata": {},
   "source": [
    "### Importamos las bibliotecas"
   ]
  },
  {
   "cell_type": "code",
   "execution_count": 2,
   "id": "5e5c99dc-88e9-4666-87ac-9648b574ada6",
   "metadata": {
    "tags": []
   },
   "outputs": [],
   "source": [
    "import pymysql\n",
    "import sqlalchemy as alch # python -m pip install --upgrade 'sqlalchemy<2.0'\n",
    "from getpass import getpass\n",
    "import pandas as pd"
   ]
  },
  {
   "cell_type": "markdown",
   "id": "386dae07-a165-4f68-84bc-cdaebf2dd5f1",
   "metadata": {},
   "source": [
    "### Importamos los csv que vamos a usar. En este caso:"
   ]
  },
  {
   "cell_type": "markdown",
   "id": "2b2a13fa-8a7c-410a-9e5a-9314e410dec2",
   "metadata": {},
   "source": [
    "#### TOTALS STATS"
   ]
  },
  {
   "cell_type": "code",
   "execution_count": 3,
   "id": "1cd1d63e-c0b0-488b-bc15-1814e06f6249",
   "metadata": {
    "tags": []
   },
   "outputs": [],
   "source": [
    "totals_stats = pd.read_csv(\"/Users/davidmartinfernandez/Desktop/Ironhack/Proyectos/Project_Sql_Tableu/datasets/mj_ kb_lj_stats/totals_stats.csv\")"
   ]
  },
  {
   "cell_type": "code",
   "execution_count": 36,
   "id": "bce1d28f-fda4-4b37-8aff-256464b8cac3",
   "metadata": {
    "tags": []
   },
   "outputs": [
    {
     "data": {
      "text/html": [
       "<div>\n",
       "<style scoped>\n",
       "    .dataframe tbody tr th:only-of-type {\n",
       "        vertical-align: middle;\n",
       "    }\n",
       "\n",
       "    .dataframe tbody tr th {\n",
       "        vertical-align: top;\n",
       "    }\n",
       "\n",
       "    .dataframe thead th {\n",
       "        text-align: right;\n",
       "    }\n",
       "</style>\n",
       "<table border=\"1\" class=\"dataframe\">\n",
       "  <thead>\n",
       "    <tr style=\"text-align: right;\">\n",
       "      <th></th>\n",
       "      <th>Season</th>\n",
       "      <th>Age</th>\n",
       "      <th>Tm</th>\n",
       "      <th>Lg</th>\n",
       "      <th>Pos</th>\n",
       "      <th>G</th>\n",
       "      <th>GS</th>\n",
       "      <th>MP</th>\n",
       "      <th>FG</th>\n",
       "      <th>FGA</th>\n",
       "      <th>...</th>\n",
       "      <th>DRB</th>\n",
       "      <th>TRB</th>\n",
       "      <th>AST</th>\n",
       "      <th>STL</th>\n",
       "      <th>BLK</th>\n",
       "      <th>TOV</th>\n",
       "      <th>PF</th>\n",
       "      <th>PTS</th>\n",
       "      <th>Player</th>\n",
       "      <th>RSorPO</th>\n",
       "    </tr>\n",
       "  </thead>\n",
       "  <tbody>\n",
       "    <tr>\n",
       "      <th>0</th>\n",
       "      <td>2003-04</td>\n",
       "      <td>19</td>\n",
       "      <td>CLE</td>\n",
       "      <td>NBA</td>\n",
       "      <td>SG</td>\n",
       "      <td>79</td>\n",
       "      <td>79</td>\n",
       "      <td>3122</td>\n",
       "      <td>622</td>\n",
       "      <td>1492</td>\n",
       "      <td>...</td>\n",
       "      <td>333</td>\n",
       "      <td>432</td>\n",
       "      <td>465</td>\n",
       "      <td>130</td>\n",
       "      <td>58</td>\n",
       "      <td>273</td>\n",
       "      <td>149</td>\n",
       "      <td>1654</td>\n",
       "      <td>Lebron James</td>\n",
       "      <td>Regular Season</td>\n",
       "    </tr>\n",
       "  </tbody>\n",
       "</table>\n",
       "<p>1 rows × 32 columns</p>\n",
       "</div>"
      ],
      "text/plain": [
       "    Season  Age   Tm   Lg Pos   G  GS    MP   FG   FGA  ...  DRB  TRB  AST  \\\n",
       "0  2003-04   19  CLE  NBA  SG  79  79  3122  622  1492  ...  333  432  465   \n",
       "\n",
       "   STL  BLK  TOV   PF   PTS        Player          RSorPO  \n",
       "0  130   58  273  149  1654  Lebron James  Regular Season  \n",
       "\n",
       "[1 rows x 32 columns]"
      ]
     },
     "execution_count": 36,
     "metadata": {},
     "output_type": "execute_result"
    }
   ],
   "source": [
    "totals_stats.head(1)"
   ]
  },
  {
   "cell_type": "markdown",
   "id": "a7761868-9571-4bb4-a4cf-e22462808205",
   "metadata": {},
   "source": [
    "#### ALLGAMES_STATS"
   ]
  },
  {
   "cell_type": "code",
   "execution_count": 7,
   "id": "33edbf6a-b3e9-4b3b-8c35-dc0c1913ae3f",
   "metadata": {
    "tags": []
   },
   "outputs": [],
   "source": [
    "allgames_stats = pd.read_csv(\"/Users/davidmartinfernandez/Desktop/Ironhack/Proyectos/Project_Sql_Tableu/datasets/mj_ kb_lj_stats/allgames_stats.csv\")"
   ]
  },
  {
   "cell_type": "code",
   "execution_count": 14,
   "id": "f8174140-eeb9-463e-aad6-c38b8aae77dd",
   "metadata": {
    "tags": []
   },
   "outputs": [
    {
     "data": {
      "text/html": [
       "<div>\n",
       "<style scoped>\n",
       "    .dataframe tbody tr th:only-of-type {\n",
       "        vertical-align: middle;\n",
       "    }\n",
       "\n",
       "    .dataframe tbody tr th {\n",
       "        vertical-align: top;\n",
       "    }\n",
       "\n",
       "    .dataframe thead th {\n",
       "        text-align: right;\n",
       "    }\n",
       "</style>\n",
       "<table border=\"1\" class=\"dataframe\">\n",
       "  <thead>\n",
       "    <tr style=\"text-align: right;\">\n",
       "      <th></th>\n",
       "      <th>G</th>\n",
       "      <th>Date</th>\n",
       "      <th>Tm</th>\n",
       "      <th>X</th>\n",
       "      <th>Opp</th>\n",
       "      <th>Result</th>\n",
       "      <th>GS</th>\n",
       "      <th>MP</th>\n",
       "      <th>FG</th>\n",
       "      <th>FGA</th>\n",
       "      <th>...</th>\n",
       "      <th>TRB</th>\n",
       "      <th>AST</th>\n",
       "      <th>STL</th>\n",
       "      <th>BLK</th>\n",
       "      <th>TOV</th>\n",
       "      <th>PF</th>\n",
       "      <th>PTS</th>\n",
       "      <th>GmSc</th>\n",
       "      <th>Player</th>\n",
       "      <th>RSorPO</th>\n",
       "    </tr>\n",
       "  </thead>\n",
       "  <tbody>\n",
       "    <tr>\n",
       "      <th>0</th>\n",
       "      <td>1</td>\n",
       "      <td>1996-11-03</td>\n",
       "      <td>LAL</td>\n",
       "      <td>NaN</td>\n",
       "      <td>MIN</td>\n",
       "      <td>W</td>\n",
       "      <td>0</td>\n",
       "      <td>6:00</td>\n",
       "      <td>0.0</td>\n",
       "      <td>1.0</td>\n",
       "      <td>...</td>\n",
       "      <td>1</td>\n",
       "      <td>0</td>\n",
       "      <td>0.0</td>\n",
       "      <td>1.0</td>\n",
       "      <td>1</td>\n",
       "      <td>1</td>\n",
       "      <td>0.0</td>\n",
       "      <td>-1.1</td>\n",
       "      <td>Kobe Bryant</td>\n",
       "      <td>Regular Season</td>\n",
       "    </tr>\n",
       "  </tbody>\n",
       "</table>\n",
       "<p>1 rows × 29 columns</p>\n",
       "</div>"
      ],
      "text/plain": [
       "   G        Date   Tm    X  Opp Result  GS    MP   FG  FGA  ...  TRB  AST  \\\n",
       "0  1  1996-11-03  LAL  NaN  MIN      W   0  6:00  0.0  1.0  ...    1    0   \n",
       "\n",
       "   STL  BLK  TOV  PF  PTS  GmSc       Player          RSorPO  \n",
       "0  0.0  1.0    1   1  0.0  -1.1  Kobe Bryant  Regular Season  \n",
       "\n",
       "[1 rows x 29 columns]"
      ]
     },
     "execution_count": 14,
     "metadata": {},
     "output_type": "execute_result"
    }
   ],
   "source": [
    "allgames_stats.head(1)"
   ]
  },
  {
   "cell_type": "markdown",
   "id": "203cf1ff-adea-4e06-9df5-3f9d4726a4d3",
   "metadata": {
    "tags": []
   },
   "source": [
    "#### ALLSTAR GAMES STATS"
   ]
  },
  {
   "cell_type": "code",
   "execution_count": 10,
   "id": "b9759a94-cd1c-4f4b-86ea-c0b6fd32f044",
   "metadata": {
    "tags": []
   },
   "outputs": [],
   "source": [
    "allstar_games_stats = pd.read_csv(\"/Users/davidmartinfernandez/Desktop/Ironhack/Proyectos/Project_Sql_Tableu/datasets/mj_ kb_lj_stats/allstar_games_stats.csv\")"
   ]
  },
  {
   "cell_type": "code",
   "execution_count": 15,
   "id": "64669cb6-72f2-4586-9f2c-9121f0a5ba0e",
   "metadata": {
    "tags": []
   },
   "outputs": [
    {
     "data": {
      "text/html": [
       "<div>\n",
       "<style scoped>\n",
       "    .dataframe tbody tr th:only-of-type {\n",
       "        vertical-align: middle;\n",
       "    }\n",
       "\n",
       "    .dataframe tbody tr th {\n",
       "        vertical-align: top;\n",
       "    }\n",
       "\n",
       "    .dataframe thead th {\n",
       "        text-align: right;\n",
       "    }\n",
       "</style>\n",
       "<table border=\"1\" class=\"dataframe\">\n",
       "  <thead>\n",
       "    <tr style=\"text-align: right;\">\n",
       "      <th></th>\n",
       "      <th>Season</th>\n",
       "      <th>Age</th>\n",
       "      <th>Tm</th>\n",
       "      <th>Lg</th>\n",
       "      <th>Pos</th>\n",
       "      <th>G</th>\n",
       "      <th>GS</th>\n",
       "      <th>MP</th>\n",
       "      <th>FG</th>\n",
       "      <th>FGA</th>\n",
       "      <th>...</th>\n",
       "      <th>FT%</th>\n",
       "      <th>ORB</th>\n",
       "      <th>TRB</th>\n",
       "      <th>AST</th>\n",
       "      <th>STL</th>\n",
       "      <th>BLK</th>\n",
       "      <th>TOV</th>\n",
       "      <th>PF</th>\n",
       "      <th>PTS</th>\n",
       "      <th>Player</th>\n",
       "    </tr>\n",
       "  </thead>\n",
       "  <tbody>\n",
       "    <tr>\n",
       "      <th>0</th>\n",
       "      <td>2004-05</td>\n",
       "      <td>20</td>\n",
       "      <td>CLE</td>\n",
       "      <td>NBA</td>\n",
       "      <td>SF</td>\n",
       "      <td>1.0</td>\n",
       "      <td>1.0</td>\n",
       "      <td>31:25</td>\n",
       "      <td>6.0</td>\n",
       "      <td>13.0</td>\n",
       "      <td>...</td>\n",
       "      <td>0.0</td>\n",
       "      <td>1.0</td>\n",
       "      <td>8.0</td>\n",
       "      <td>6.0</td>\n",
       "      <td>2.0</td>\n",
       "      <td>0.0</td>\n",
       "      <td>3.0</td>\n",
       "      <td>0.0</td>\n",
       "      <td>13.0</td>\n",
       "      <td>Lebron James</td>\n",
       "    </tr>\n",
       "  </tbody>\n",
       "</table>\n",
       "<p>1 rows × 26 columns</p>\n",
       "</div>"
      ],
      "text/plain": [
       "    Season  Age   Tm   Lg Pos    G   GS     MP   FG   FGA  ...  FT%  ORB  TRB  \\\n",
       "0  2004-05   20  CLE  NBA  SF  1.0  1.0  31:25  6.0  13.0  ...  0.0  1.0  8.0   \n",
       "\n",
       "   AST  STL  BLK  TOV   PF   PTS        Player  \n",
       "0  6.0  2.0  0.0  3.0  0.0  13.0  Lebron James  \n",
       "\n",
       "[1 rows x 26 columns]"
      ]
     },
     "execution_count": 15,
     "metadata": {},
     "output_type": "execute_result"
    }
   ],
   "source": [
    "allstar_games_stats.head(1)"
   ]
  },
  {
   "cell_type": "markdown",
   "id": "33dd7334-812d-4c4b-8645-bbf1d24125a6",
   "metadata": {},
   "source": [
    "#### GAME HIGHS STATS"
   ]
  },
  {
   "cell_type": "code",
   "execution_count": 17,
   "id": "08129557-91dc-4863-b203-4e2eae17b9e2",
   "metadata": {
    "tags": []
   },
   "outputs": [],
   "source": [
    "game_highs_stats = pd.read_csv(\"/Users/davidmartinfernandez/Desktop/Ironhack/Proyectos/Project_Sql_Tableu/datasets/mj_ kb_lj_stats/game_highs_stats.csv\")"
   ]
  },
  {
   "cell_type": "code",
   "execution_count": 20,
   "id": "e89db987-c46d-4b0c-9403-b37714dbcd65",
   "metadata": {
    "tags": []
   },
   "outputs": [
    {
     "data": {
      "text/html": [
       "<div>\n",
       "<style scoped>\n",
       "    .dataframe tbody tr th:only-of-type {\n",
       "        vertical-align: middle;\n",
       "    }\n",
       "\n",
       "    .dataframe tbody tr th {\n",
       "        vertical-align: top;\n",
       "    }\n",
       "\n",
       "    .dataframe thead th {\n",
       "        text-align: right;\n",
       "    }\n",
       "</style>\n",
       "<table border=\"1\" class=\"dataframe\">\n",
       "  <thead>\n",
       "    <tr style=\"text-align: right;\">\n",
       "      <th></th>\n",
       "      <th>Season</th>\n",
       "      <th>Age</th>\n",
       "      <th>Tm</th>\n",
       "      <th>Lg</th>\n",
       "      <th>MP</th>\n",
       "      <th>FG</th>\n",
       "      <th>FGA</th>\n",
       "      <th>3P</th>\n",
       "      <th>3PA</th>\n",
       "      <th>2P</th>\n",
       "      <th>...</th>\n",
       "      <th>TRB</th>\n",
       "      <th>AST</th>\n",
       "      <th>STL</th>\n",
       "      <th>BLK</th>\n",
       "      <th>TOV</th>\n",
       "      <th>PF</th>\n",
       "      <th>PTS</th>\n",
       "      <th>GmSc</th>\n",
       "      <th>Player</th>\n",
       "      <th>RSorPO</th>\n",
       "    </tr>\n",
       "  </thead>\n",
       "  <tbody>\n",
       "    <tr>\n",
       "      <th>0</th>\n",
       "      <td>2003-04</td>\n",
       "      <td>19</td>\n",
       "      <td>CLE</td>\n",
       "      <td>NBA</td>\n",
       "      <td>NaN</td>\n",
       "      <td>15</td>\n",
       "      <td>29</td>\n",
       "      <td>5</td>\n",
       "      <td>10</td>\n",
       "      <td>15</td>\n",
       "      <td>...</td>\n",
       "      <td>16</td>\n",
       "      <td>13</td>\n",
       "      <td>6</td>\n",
       "      <td>5</td>\n",
       "      <td>8</td>\n",
       "      <td>5</td>\n",
       "      <td>41</td>\n",
       "      <td>39.0</td>\n",
       "      <td>Lebron James</td>\n",
       "      <td>Regular Season</td>\n",
       "    </tr>\n",
       "  </tbody>\n",
       "</table>\n",
       "<p>1 rows × 25 columns</p>\n",
       "</div>"
      ],
      "text/plain": [
       "    Season  Age   Tm   Lg   MP  FG  FGA  3P  3PA  2P  ...  TRB  AST  STL  BLK  \\\n",
       "0  2003-04   19  CLE  NBA  NaN  15   29   5   10  15  ...   16   13    6    5   \n",
       "\n",
       "   TOV  PF  PTS  GmSc        Player          RSorPO  \n",
       "0    8   5   41  39.0  Lebron James  Regular Season  \n",
       "\n",
       "[1 rows x 25 columns]"
      ]
     },
     "execution_count": 20,
     "metadata": {},
     "output_type": "execute_result"
    }
   ],
   "source": [
    "game_highs_stats.head(1)"
   ]
  },
  {
   "cell_type": "markdown",
   "id": "b3cf38a1-0660-489a-ab19-ffaa0f8e18d6",
   "metadata": {},
   "source": [
    "#### ADVANCED STATS"
   ]
  },
  {
   "cell_type": "code",
   "execution_count": 21,
   "id": "d7a4d807-327b-457d-8f14-3d8ec42c823b",
   "metadata": {
    "tags": []
   },
   "outputs": [],
   "source": [
    "advanced_stats = pd.read_csv(\"/Users/davidmartinfernandez/Desktop/Ironhack/Proyectos/Project_Sql_Tableu/datasets/mj_ kb_lj_stats/advanced_stats.csv\")"
   ]
  },
  {
   "cell_type": "code",
   "execution_count": 27,
   "id": "56574bbc-5af8-460b-9bf0-9d9885c89e51",
   "metadata": {
    "tags": []
   },
   "outputs": [
    {
     "data": {
      "text/html": [
       "<div>\n",
       "<style scoped>\n",
       "    .dataframe tbody tr th:only-of-type {\n",
       "        vertical-align: middle;\n",
       "    }\n",
       "\n",
       "    .dataframe tbody tr th {\n",
       "        vertical-align: top;\n",
       "    }\n",
       "\n",
       "    .dataframe thead th {\n",
       "        text-align: right;\n",
       "    }\n",
       "</style>\n",
       "<table border=\"1\" class=\"dataframe\">\n",
       "  <thead>\n",
       "    <tr style=\"text-align: right;\">\n",
       "      <th></th>\n",
       "      <th>Season</th>\n",
       "      <th>Age</th>\n",
       "      <th>Tm</th>\n",
       "      <th>Lg</th>\n",
       "      <th>Pos</th>\n",
       "      <th>G</th>\n",
       "      <th>MP</th>\n",
       "      <th>PER</th>\n",
       "      <th>TS%</th>\n",
       "      <th>3PAr</th>\n",
       "      <th>...</th>\n",
       "      <th>OWS</th>\n",
       "      <th>DWS</th>\n",
       "      <th>WS</th>\n",
       "      <th>WS/48</th>\n",
       "      <th>OBPM</th>\n",
       "      <th>DBPM</th>\n",
       "      <th>BPM</th>\n",
       "      <th>VORP</th>\n",
       "      <th>Player</th>\n",
       "      <th>RSorPO</th>\n",
       "    </tr>\n",
       "  </thead>\n",
       "  <tbody>\n",
       "    <tr>\n",
       "      <th>0</th>\n",
       "      <td>2003-04</td>\n",
       "      <td>19</td>\n",
       "      <td>CLE</td>\n",
       "      <td>NBA</td>\n",
       "      <td>SG</td>\n",
       "      <td>79</td>\n",
       "      <td>3122</td>\n",
       "      <td>18.3</td>\n",
       "      <td>0.488</td>\n",
       "      <td>0.145</td>\n",
       "      <td>...</td>\n",
       "      <td>2.4</td>\n",
       "      <td>2.6</td>\n",
       "      <td>5.1</td>\n",
       "      <td>0.078</td>\n",
       "      <td>2.2</td>\n",
       "      <td>-0.2</td>\n",
       "      <td>1.9</td>\n",
       "      <td>3.1</td>\n",
       "      <td>Lebron James</td>\n",
       "      <td>Regular Season</td>\n",
       "    </tr>\n",
       "  </tbody>\n",
       "</table>\n",
       "<p>1 rows × 29 columns</p>\n",
       "</div>"
      ],
      "text/plain": [
       "    Season  Age   Tm   Lg Pos   G    MP   PER    TS%   3PAr  ...  OWS  DWS  \\\n",
       "0  2003-04   19  CLE  NBA  SG  79  3122  18.3  0.488  0.145  ...  2.4  2.6   \n",
       "\n",
       "    WS  WS/48  OBPM  DBPM  BPM  VORP        Player          RSorPO  \n",
       "0  5.1  0.078   2.2  -0.2  1.9   3.1  Lebron James  Regular Season  \n",
       "\n",
       "[1 rows x 29 columns]"
      ]
     },
     "execution_count": 27,
     "metadata": {},
     "output_type": "execute_result"
    }
   ],
   "source": [
    "advanced_stats.head(1)"
   ]
  },
  {
   "cell_type": "markdown",
   "id": "b3f95b9e-1c72-4e6d-a9af-4dfbc500b7a1",
   "metadata": {
    "tags": []
   },
   "source": [
    "#### PER GAME STATS"
   ]
  },
  {
   "cell_type": "code",
   "execution_count": 28,
   "id": "fec16eb0-60d4-4185-9748-8201be0796f4",
   "metadata": {
    "tags": []
   },
   "outputs": [],
   "source": [
    "per_game_stats = pd.read_csv(\"/Users/davidmartinfernandez/Desktop/Ironhack/Proyectos/Project_Sql_Tableu/datasets/mj_ kb_lj_stats/per_game_stats.csv\")"
   ]
  },
  {
   "cell_type": "code",
   "execution_count": 37,
   "id": "258f33d2-33ca-4f7d-9dc4-27d152e7bf35",
   "metadata": {
    "tags": []
   },
   "outputs": [
    {
     "data": {
      "text/html": [
       "<div>\n",
       "<style scoped>\n",
       "    .dataframe tbody tr th:only-of-type {\n",
       "        vertical-align: middle;\n",
       "    }\n",
       "\n",
       "    .dataframe tbody tr th {\n",
       "        vertical-align: top;\n",
       "    }\n",
       "\n",
       "    .dataframe thead th {\n",
       "        text-align: right;\n",
       "    }\n",
       "</style>\n",
       "<table border=\"1\" class=\"dataframe\">\n",
       "  <thead>\n",
       "    <tr style=\"text-align: right;\">\n",
       "      <th></th>\n",
       "      <th>Season</th>\n",
       "      <th>Age</th>\n",
       "      <th>Tm</th>\n",
       "      <th>Lg</th>\n",
       "      <th>Pos</th>\n",
       "      <th>G</th>\n",
       "      <th>GS</th>\n",
       "      <th>MP</th>\n",
       "      <th>FG</th>\n",
       "      <th>FGA</th>\n",
       "      <th>...</th>\n",
       "      <th>DRB</th>\n",
       "      <th>TRB</th>\n",
       "      <th>AST</th>\n",
       "      <th>STL</th>\n",
       "      <th>BLK</th>\n",
       "      <th>TOV</th>\n",
       "      <th>PF</th>\n",
       "      <th>PTS</th>\n",
       "      <th>Player</th>\n",
       "      <th>RSorPO</th>\n",
       "    </tr>\n",
       "  </thead>\n",
       "  <tbody>\n",
       "    <tr>\n",
       "      <th>0</th>\n",
       "      <td>2003-04</td>\n",
       "      <td>19</td>\n",
       "      <td>CLE</td>\n",
       "      <td>NBA</td>\n",
       "      <td>SG</td>\n",
       "      <td>79</td>\n",
       "      <td>79</td>\n",
       "      <td>39.5</td>\n",
       "      <td>7.9</td>\n",
       "      <td>18.9</td>\n",
       "      <td>...</td>\n",
       "      <td>4.2</td>\n",
       "      <td>5.5</td>\n",
       "      <td>5.9</td>\n",
       "      <td>1.6</td>\n",
       "      <td>0.7</td>\n",
       "      <td>3.5</td>\n",
       "      <td>1.9</td>\n",
       "      <td>20.9</td>\n",
       "      <td>Lebron James</td>\n",
       "      <td>Regular Season</td>\n",
       "    </tr>\n",
       "  </tbody>\n",
       "</table>\n",
       "<p>1 rows × 32 columns</p>\n",
       "</div>"
      ],
      "text/plain": [
       "    Season  Age   Tm   Lg Pos   G  GS    MP   FG   FGA  ...  DRB  TRB  AST  \\\n",
       "0  2003-04   19  CLE  NBA  SG  79  79  39.5  7.9  18.9  ...  4.2  5.5  5.9   \n",
       "\n",
       "   STL  BLK  TOV   PF   PTS        Player          RSorPO  \n",
       "0  1.6  0.7  3.5  1.9  20.9  Lebron James  Regular Season  \n",
       "\n",
       "[1 rows x 32 columns]"
      ]
     },
     "execution_count": 37,
     "metadata": {},
     "output_type": "execute_result"
    }
   ],
   "source": [
    "per_game_stats.head(1)"
   ]
  },
  {
   "cell_type": "markdown",
   "id": "be773ec3-2c1b-4c02-9365-7b8d47b3ba9d",
   "metadata": {},
   "source": [
    "#### SALARIES"
   ]
  },
  {
   "cell_type": "code",
   "execution_count": 38,
   "id": "c57229a6-4afd-49ab-9e3a-92a6b618fb2a",
   "metadata": {
    "tags": []
   },
   "outputs": [],
   "source": [
    "salaries = pd.read_csv(\"/Users/davidmartinfernandez/Desktop/Ironhack/Proyectos/Project_Sql_Tableu/datasets/mj_ kb_lj_stats/salaries.csv\")"
   ]
  },
  {
   "cell_type": "code",
   "execution_count": 44,
   "id": "3b20e2c8-e3ac-4542-9788-6c6af13a4105",
   "metadata": {
    "tags": []
   },
   "outputs": [
    {
     "data": {
      "text/html": [
       "<div>\n",
       "<style scoped>\n",
       "    .dataframe tbody tr th:only-of-type {\n",
       "        vertical-align: middle;\n",
       "    }\n",
       "\n",
       "    .dataframe tbody tr th {\n",
       "        vertical-align: top;\n",
       "    }\n",
       "\n",
       "    .dataframe thead th {\n",
       "        text-align: right;\n",
       "    }\n",
       "</style>\n",
       "<table border=\"1\" class=\"dataframe\">\n",
       "  <thead>\n",
       "    <tr style=\"text-align: right;\">\n",
       "      <th></th>\n",
       "      <th>Season</th>\n",
       "      <th>Team</th>\n",
       "      <th>Lg</th>\n",
       "      <th>Salary</th>\n",
       "      <th>Player</th>\n",
       "    </tr>\n",
       "  </thead>\n",
       "  <tbody>\n",
       "    <tr>\n",
       "      <th>0</th>\n",
       "      <td>2003-04</td>\n",
       "      <td>Cleveland Cavaliers</td>\n",
       "      <td>NBA</td>\n",
       "      <td>$4018920</td>\n",
       "      <td>Lebron James</td>\n",
       "    </tr>\n",
       "  </tbody>\n",
       "</table>\n",
       "</div>"
      ],
      "text/plain": [
       "    Season                 Team   Lg    Salary        Player\n",
       "0  2003-04  Cleveland Cavaliers  NBA  $4018920  Lebron James"
      ]
     },
     "execution_count": 44,
     "metadata": {},
     "output_type": "execute_result"
    }
   ],
   "source": [
    "salaries.head(1)"
   ]
  },
  {
   "cell_type": "code",
   "execution_count": 45,
   "id": "5517190b-4118-476c-860c-96eb4f46652f",
   "metadata": {
    "tags": []
   },
   "outputs": [
    {
     "name": "stdin",
     "output_type": "stream",
     "text": [
      "Please enter your password:  ········\n"
     ]
    }
   ],
   "source": [
    "password = getpass(\"Please enter your password: \")"
   ]
  },
  {
   "cell_type": "code",
   "execution_count": null,
   "id": "6aa1b1b6-fc51-4c80-8ec5-db860c6641d9",
   "metadata": {},
   "outputs": [],
   "source": []
  }
 ],
 "metadata": {
  "kernelspec": {
   "display_name": "Python 3 (ipykernel)",
   "language": "python",
   "name": "python3"
  },
  "language_info": {
   "codemirror_mode": {
    "name": "ipython",
    "version": 3
   },
   "file_extension": ".py",
   "mimetype": "text/x-python",
   "name": "python",
   "nbconvert_exporter": "python",
   "pygments_lexer": "ipython3",
   "version": "3.11.5"
  }
 },
 "nbformat": 4,
 "nbformat_minor": 5
}
